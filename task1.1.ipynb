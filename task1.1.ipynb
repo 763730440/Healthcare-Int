{
 "cells": [
  {
   "cell_type": "markdown",
   "metadata": {},
   "source": [
    "Task: \n",
    "1.Develop a pop-up feature that will provide medicine information and drug suggestions with side effects during prescription writing. \n",
    "2.Develop a chatbot for disease-related knowledge.\n"
   ]
  },
  {
   "cell_type": "code",
   "execution_count": 3,
   "metadata": {},
   "outputs": [
    {
     "name": "stdout",
     "output_type": "stream",
     "text": [
      "Total number of medicines: 11498\n",
      "\n",
      "Number of medicines per manufacturer:\n",
      "Manufacturer\n",
      "Sun Pharmaceutical Industries Ltd    820\n",
      "Intas Pharmaceuticals Ltd            654\n",
      "Cipla Ltd                            574\n",
      "Torrent Pharmaceuticals Ltd          445\n",
      "Lupin Ltd                            435\n",
      "                                    ... \n",
      "Universal NutriScience                 1\n",
      "Orison Pharma International            1\n",
      "Pacific Biotech                        1\n",
      "Misae Lifesciences Pvt Ltd             1\n",
      "Albia Biocare                          1\n",
      "Name: count, Length: 759, dtype: int64\n"
     ]
    }
   ],
   "source": [
    "import pandas as pd\n",
    "import tkinter as tk\n",
    "from tkinter import ttk\n",
    "from tkinter import messagebox\n",
    "\n",
    "# Read CSV file      读取CSV文件\n",
    "csv_file_path = 'C:/Users/Ela/Desktop/Medicines_Dataset.csv'\n",
    "df = pd.read_csv(csv_file_path)\n",
    "\n",
    "total_medicines = df['Medicine Name'].nunique()\n",
    "print(f\"Total number of medicines: {total_medicines}\")\n",
    "\n",
    "manufacturer_counts = df['Manufacturer'].value_counts()\n",
    "print(\"\\nNumber of medicines per manufacturer:\")\n",
    "print(manufacturer_counts)\n",
    "\n",
    "# Define functions for displaying drug information      定义显示药品信息的函数\n",
    "def show_medicine_info(medicine_name):\n",
    "    medicine = df[df['Medicine Name'] == medicine_name].iloc[0]\n",
    "    info = f\"Medicine Name: {medicine['Medicine Name']}\\n\\nComposition: {medicine['Composition']}\\n\\nUses: {medicine['Uses']}\\n\\nSide_effects: {medicine['Side_effects']}\\n\\nManufacturer: {medicine['Manufacturer']}\\n\\nExcellent Review: {medicine['Excellent Review %']}%\\nAverage Review: {medicine['Average Review %']}%\\nPoor Review: {medicine['Poor Review %']}%\"\n",
    "    popup = tk.Toplevel()\n",
    "    popup.title(\"Medicine information\")\n",
    "    tk.Label(popup, text=info, justify=tk.LEFT, padx=10, pady=10).pack()\n",
    "\n",
    "# Creating Main Windows 创建主窗口\n",
    "root = tk.Tk()\n",
    "root.title(\"Medicine information inquiry\")\n",
    "\n",
    "# Select medication 下拉菜单选择药品\n",
    "tk.Label(root, text=\"Select medication:\").pack(padx=10, pady=10)\n",
    "medicine_names = df['Medicine Name'].tolist()\n",
    "medicine_var = tk.StringVar(value=medicine_names[0])\n",
    "medicine_menu = ttk.Combobox(root, textvariable=medicine_var, values=medicine_names)\n",
    "medicine_menu.pack(padx=10, pady=10)\n",
    "\n",
    "# Button information 按钮显示信息\n",
    "tk.Button(root, text=\"Display Information\", command=lambda: show_medicine_info(medicine_var.get())).pack(padx=10, pady=10)\n",
    "\n",
    "# Running the mainloop 运行主循环\n",
    "root.mainloop()"
   ]
  }
 ],
 "metadata": {
  "kernelspec": {
   "display_name": "Python 3",
   "language": "python",
   "name": "python3"
  },
  "language_info": {
   "codemirror_mode": {
    "name": "ipython",
    "version": 3
   },
   "file_extension": ".py",
   "mimetype": "text/x-python",
   "name": "python",
   "nbconvert_exporter": "python",
   "pygments_lexer": "ipython3",
   "version": "3.8.1"
  }
 },
 "nbformat": 4,
 "nbformat_minor": 2
}
